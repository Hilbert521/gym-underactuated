{
 "cells": [
  {
   "cell_type": "code",
   "execution_count": 1,
   "metadata": {},
   "outputs": [],
   "source": [
    "from __future__ import division\n",
    "from sympy import *\n",
    "from sympy.utilities.codegen import codegen"
   ]
  },
  {
   "cell_type": "markdown",
   "metadata": {},
   "source": [
    "# Acrobot/Pendubot"
   ]
  },
  {
   "cell_type": "markdown",
   "metadata": {},
   "source": [
    "# Acrocart"
   ]
  },
  {
   "cell_type": "markdown",
   "metadata": {},
   "source": [
    "# Dual Inverted Pendulum"
   ]
  },
  {
   "cell_type": "markdown",
   "metadata": {},
   "source": [
    "#### Raw Equations"
   ]
  },
  {
   "cell_type": "markdown",
   "metadata": {},
   "source": [
    "#### Simplified Equations"
   ]
  },
  {
   "cell_type": "code",
   "execution_count": 2,
   "metadata": {},
   "outputs": [],
   "source": [
    "m0, m1, m2, l1, l2, I1, I2, g, xd, xdd, t1, t1d, t1dd, t2, t2d, t2dd, f = symbols(\"m0, m1, m2, l1, l2, I1, I2, g, xd, xdd, t1, t1d, t1dd, t2, t2d, t2dd, f\")\n",
    "eq1 = Eq(-m1 * l1 * (g * sin(t1) + cos(t1) * xdd) / (I1 + m1 * l1**2), t1dd)\n",
    "eq2 = Eq(-m2 * l2 * (g * sin(t2) + cos(t2) * xdd) / (I2 + m2 * l2**2), t2dd)\n",
    "eq3 = Eq((f - m1 * l1 * cos(t1) * t1dd - m2 * l2 * cos(t2) * t2dd + m1 * l1 * sin(t1) * t1d**2 + m2 * l2 * sin(t2) * t2d**2) / (m0 + m1 + m2) , xdd)\n",
    "sols = solve([eq1, eq2, eq3], [xdd, t1dd, t2dd])"
   ]
  },
  {
   "cell_type": "code",
   "execution_count": 11,
   "metadata": {
    "scrolled": false
   },
   "outputs": [
    {
     "name": "stdout",
     "output_type": "stream",
     "text": [
      "-(g*l1**2*m1**2*(I2 + l2**2*m2)*sin(2*t1)/2 + g*l2**2*m2**2*(I1 + l1**2*m1)*sin(2*t2)/2 + (I1 + l1**2*m1)*(I2 + l2**2*m2)*(f + l1*m1*t1d**2*sin(t1) + l2*m2*t2d**2*sin(t2)))/(l1**2*m1**2*(I2 + l2**2*m2)*cos(t1)**2 + l2**2*m2**2*(I1 + l1**2*m1)*cos(t2)**2 - (I1 + l1**2*m1)*(I2 + l2**2*m2)*(m0 + m1 + m2))\n"
     ]
    },
    {
     "data": {
      "image/png": "[encoded data removed]",
      "text/latex": [
       "$$- \\frac{\\frac{g l_{1}^{2} m_{1}^{2} \\left(I_{2} + l_{2}^{2} m_{2}\\right) \\sin{\\left (2 t_{1} \\right )}}{2} + \\frac{g l_{2}^{2} m_{2}^{2} \\left(I_{1} + l_{1}^{2} m_{1}\\right) \\sin{\\left (2 t_{2} \\right )}}{2} + \\left(I_{1} + l_{1}^{2} m_{1}\\right) \\left(I_{2} + l_{2}^{2} m_{2}\\right) \\left(f + l_{1} m_{1} t1d^{2} \\sin{\\left (t_{1} \\right )} + l_{2} m_{2} t2d^{2} \\sin{\\left (t_{2} \\right )}\\right)}{l_{1}^{2} m_{1}^{2} \\left(I_{2} + l_{2}^{2} m_{2}\\right) \\cos^{2}{\\left (t_{1} \\right )} + l_{2}^{2} m_{2}^{2} \\left(I_{1} + l_{1}^{2} m_{1}\\right) \\cos^{2}{\\left (t_{2} \\right )} - \\left(I_{1} + l_{1}^{2} m_{1}\\right) \\left(I_{2} + l_{2}^{2} m_{2}\\right) \\left(m_{0} + m_{1} + m_{2}\\right)}$$"
      ],
      "text/plain": [
       " ⎛    2   2 ⎛       2   ⎞                 2   2 ⎛       2   ⎞                 \n",
       " ⎜g⋅l₁ ⋅m₁ ⋅⎝I₂ + l₂ ⋅m₂⎠⋅sin(2⋅t₁)   g⋅l₂ ⋅m₂ ⋅⎝I₁ + l₁ ⋅m₁⎠⋅sin(2⋅t₂)   ⎛   \n",
       "-⎜───────────────────────────────── + ───────────────────────────────── + ⎝I₁ \n",
       " ⎝                2                                   2                       \n",
       "──────────────────────────────────────────────────────────────────────────────\n",
       "                       2   2 ⎛       2   ⎞    2         2   2 ⎛       2   ⎞   \n",
       "                     l₁ ⋅m₁ ⋅⎝I₂ + l₂ ⋅m₂⎠⋅cos (t₁) + l₂ ⋅m₂ ⋅⎝I₁ + l₁ ⋅m₁⎠⋅co\n",
       "\n",
       "                                                                     ⎞ \n",
       "    2   ⎞ ⎛       2   ⎞ ⎛             2                    2        ⎞⎟ \n",
       "+ l₁ ⋅m₁⎠⋅⎝I₂ + l₂ ⋅m₂⎠⋅⎝f + l₁⋅m₁⋅t1d ⋅sin(t₁) + l₂⋅m₂⋅t2d ⋅sin(t₂)⎠⎟ \n",
       "                                                                     ⎠ \n",
       "───────────────────────────────────────────────────────────────────────\n",
       " 2       ⎛       2   ⎞ ⎛       2   ⎞                                   \n",
       "s (t₂) - ⎝I₁ + l₁ ⋅m₁⎠⋅⎝I₂ + l₂ ⋅m₂⎠⋅(m₀ + m₁ + m₂)                    "
      ]
     },
     "execution_count": 11,
     "metadata": {},
     "output_type": "execute_result"
    }
   ],
   "source": [
    "# init_printing()\n",
    "print(sols[xdd])\n",
    "sols[xdd]"
   ]
  },
  {
   "cell_type": "code",
   "execution_count": 13,
   "metadata": {
    "scrolled": false
   },
   "outputs": [
    {
     "name": "stdout",
     "output_type": "stream",
     "text": [
      "l1*m1*(g*l2**2*m2**2*(-sin(t1 - 2*t2) + sin(t1 + 2*t2))/4 - g*(l2**2*m2**2*cos(t2)**2 - (I2 + l2**2*m2)*(m0 + m1 + m2))*sin(t1) + (I2 + l2**2*m2)*(f + l1*m1*t1d**2*sin(t1) + l2*m2*t2d**2*sin(t2))*cos(t1))/(l1**2*m1**2*(I2 + l2**2*m2)*cos(t1)**2 + l2**2*m2**2*(I1 + l1**2*m1)*cos(t2)**2 - (I1 + l1**2*m1)*(I2 + l2**2*m2)*(m0 + m1 + m2))\n"
     ]
    },
    {
     "data": {
      "image/png": "[encoded data removed]",
      "text/latex": [
       "$$\\frac{l_{1} m_{1} \\left(\\frac{g l_{2}^{2} m_{2}^{2} \\left(- \\sin{\\left (t_{1} - 2 t_{2} \\right )} + \\sin{\\left (t_{1} + 2 t_{2} \\right )}\\right)}{4} - g \\left(l_{2}^{2} m_{2}^{2} \\cos^{2}{\\left (t_{2} \\right )} - \\left(I_{2} + l_{2}^{2} m_{2}\\right) \\left(m_{0} + m_{1} + m_{2}\\right)\\right) \\sin{\\left (t_{1} \\right )} + \\left(I_{2} + l_{2}^{2} m_{2}\\right) \\left(f + l_{1} m_{1} t1d^{2} \\sin{\\left (t_{1} \\right )} + l_{2} m_{2} t2d^{2} \\sin{\\left (t_{2} \\right )}\\right) \\cos{\\left (t_{1} \\right )}\\right)}{l_{1}^{2} m_{1}^{2} \\left(I_{2} + l_{2}^{2} m_{2}\\right) \\cos^{2}{\\left (t_{1} \\right )} + l_{2}^{2} m_{2}^{2} \\left(I_{1} + l_{1}^{2} m_{1}\\right) \\cos^{2}{\\left (t_{2} \\right )} - \\left(I_{1} + l_{1}^{2} m_{1}\\right) \\left(I_{2} + l_{2}^{2} m_{2}\\right) \\left(m_{0} + m_{1} + m_{2}\\right)}$$"
      ],
      "text/plain": [
       "      ⎛    2   2                                                              \n",
       "      ⎜g⋅l₂ ⋅m₂ ⋅(-sin(t₁ - 2⋅t₂) + sin(t₁ + 2⋅t₂))     ⎛  2   2    2       ⎛ \n",
       "l₁⋅m₁⋅⎜──────────────────────────────────────────── - g⋅⎝l₂ ⋅m₂ ⋅cos (t₂) - ⎝I\n",
       "      ⎝                     4                                                 \n",
       "──────────────────────────────────────────────────────────────────────────────\n",
       "                                        2   2 ⎛       2   ⎞    2         2   2\n",
       "                                      l₁ ⋅m₁ ⋅⎝I₂ + l₂ ⋅m₂⎠⋅cos (t₁) + l₂ ⋅m₂ \n",
       "\n",
       "                                                                              \n",
       "      2   ⎞               ⎞           ⎛       2   ⎞ ⎛             2           \n",
       "₂ + l₂ ⋅m₂⎠⋅(m₀ + m₁ + m₂)⎠⋅sin(t₁) + ⎝I₂ + l₂ ⋅m₂⎠⋅⎝f + l₁⋅m₁⋅t1d ⋅sin(t₁) + \n",
       "                                                                              \n",
       "──────────────────────────────────────────────────────────────────────────────\n",
       " ⎛       2   ⎞    2       ⎛       2   ⎞ ⎛       2   ⎞                         \n",
       "⋅⎝I₁ + l₁ ⋅m₁⎠⋅cos (t₂) - ⎝I₁ + l₁ ⋅m₁⎠⋅⎝I₂ + l₂ ⋅m₂⎠⋅(m₀ + m₁ + m₂)          \n",
       "\n",
       "                           ⎞\n",
       "         2        ⎞        ⎟\n",
       "l₂⋅m₂⋅t2d ⋅sin(t₂)⎠⋅cos(t₁)⎟\n",
       "                           ⎠\n",
       "────────────────────────────\n",
       "                            \n",
       "                            "
      ]
     },
     "execution_count": 13,
     "metadata": {},
     "output_type": "execute_result"
    }
   ],
   "source": [
    "print(sols[t1dd])\n",
    "sols[t1dd]"
   ]
  },
  {
   "cell_type": "code",
   "execution_count": 12,
   "metadata": {},
   "outputs": [
    {
     "name": "stdout",
     "output_type": "stream",
     "text": [
      "l2*m2*(g*l1**2*m1**2*(sin(2*t1 - t2) + sin(2*t1 + t2))/4 - g*(l1**2*m1**2*cos(t1)**2 - (I1 + l1**2*m1)*(m0 + m1 + m2))*sin(t2) + (I1 + l1**2*m1)*(f + l1*m1*t1d**2*sin(t1) + l2*m2*t2d**2*sin(t2))*cos(t2))/(l1**2*m1**2*(I2 + l2**2*m2)*cos(t1)**2 + l2**2*m2**2*(I1 + l1**2*m1)*cos(t2)**2 - (I1 + l1**2*m1)*(I2 + l2**2*m2)*(m0 + m1 + m2))\n"
     ]
    },
    {
     "data": {
      "image/png": "[encoded data removed]",
      "text/latex": [
       "$$\\frac{l_{2} m_{2} \\left(\\frac{g l_{1}^{2} m_{1}^{2} \\left(\\sin{\\left (2 t_{1} - t_{2} \\right )} + \\sin{\\left (2 t_{1} + t_{2} \\right )}\\right)}{4} - g \\left(l_{1}^{2} m_{1}^{2} \\cos^{2}{\\left (t_{1} \\right )} - \\left(I_{1} + l_{1}^{2} m_{1}\\right) \\left(m_{0} + m_{1} + m_{2}\\right)\\right) \\sin{\\left (t_{2} \\right )} + \\left(I_{1} + l_{1}^{2} m_{1}\\right) \\left(f + l_{1} m_{1} t1d^{2} \\sin{\\left (t_{1} \\right )} + l_{2} m_{2} t2d^{2} \\sin{\\left (t_{2} \\right )}\\right) \\cos{\\left (t_{2} \\right )}\\right)}{l_{1}^{2} m_{1}^{2} \\left(I_{2} + l_{2}^{2} m_{2}\\right) \\cos^{2}{\\left (t_{1} \\right )} + l_{2}^{2} m_{2}^{2} \\left(I_{1} + l_{1}^{2} m_{1}\\right) \\cos^{2}{\\left (t_{2} \\right )} - \\left(I_{1} + l_{1}^{2} m_{1}\\right) \\left(I_{2} + l_{2}^{2} m_{2}\\right) \\left(m_{0} + m_{1} + m_{2}\\right)}$$"
      ],
      "text/plain": [
       "      ⎛    2   2                                                              \n",
       "      ⎜g⋅l₁ ⋅m₁ ⋅(sin(2⋅t₁ - t₂) + sin(2⋅t₁ + t₂))     ⎛  2   2    2       ⎛  \n",
       "l₂⋅m₂⋅⎜─────────────────────────────────────────── - g⋅⎝l₁ ⋅m₁ ⋅cos (t₁) - ⎝I₁\n",
       "      ⎝                     4                                                 \n",
       "──────────────────────────────────────────────────────────────────────────────\n",
       "                                        2   2 ⎛       2   ⎞    2         2   2\n",
       "                                      l₁ ⋅m₁ ⋅⎝I₂ + l₂ ⋅m₂⎠⋅cos (t₁) + l₂ ⋅m₂ \n",
       "\n",
       "                                                                              \n",
       "     2   ⎞               ⎞           ⎛       2   ⎞ ⎛             2            \n",
       " + l₁ ⋅m₁⎠⋅(m₀ + m₁ + m₂)⎠⋅sin(t₂) + ⎝I₁ + l₁ ⋅m₁⎠⋅⎝f + l₁⋅m₁⋅t1d ⋅sin(t₁) + l\n",
       "                                                                              \n",
       "──────────────────────────────────────────────────────────────────────────────\n",
       " ⎛       2   ⎞    2       ⎛       2   ⎞ ⎛       2   ⎞                         \n",
       "⋅⎝I₁ + l₁ ⋅m₁⎠⋅cos (t₂) - ⎝I₁ + l₁ ⋅m₁⎠⋅⎝I₂ + l₂ ⋅m₂⎠⋅(m₀ + m₁ + m₂)          \n",
       "\n",
       "                          ⎞\n",
       "        2        ⎞        ⎟\n",
       "₂⋅m₂⋅t2d ⋅sin(t₂)⎠⋅cos(t₂)⎟\n",
       "                          ⎠\n",
       "───────────────────────────\n",
       "                           \n",
       "                           "
      ]
     },
     "execution_count": 12,
     "metadata": {},
     "output_type": "execute_result"
    }
   ],
   "source": [
    "print(sols[t2dd])\n",
    "sols[t2dd]"
   ]
  },
  {
   "cell_type": "markdown",
   "metadata": {},
   "source": [
    "# Wheeled Inverted Pendulum"
   ]
  },
  {
   "cell_type": "code",
   "execution_count": null,
   "metadata": {},
   "outputs": [],
   "source": [
    "m0, m1, m2, l1, l2, I1, I2, g, xd, xdd, t1, t1d, t1dd, t2, t2d, t2dd, f = symbols(\"m0, m1, m2, l1, l2, I1, I2, g, xd, xdd, t1, t1d, t1dd, t2, t2d, t2dd, f\")\n",
    "eq1 = Eq(-m1 * l1 * (g * sin(t1) + cos(t1) * xdd) / (I1 + m1 * l1**2), t1dd)\n",
    "eq2 = Eq(-m2 * l2 * (g * sin(t2) + cos(t2) * xdd) / (I2 + m2 * l2**2), t2dd)\n",
    "eq3 = Eq((f - m1 * l1 * cos(t1) * t1dd - m2 * l2 * cos(t2) * t2dd + m1 * l1 * sin(t1) * t1d**2 + m2 * l2 * sin(t2) * t2d**2) / (m0 + m1 + m2) , xdd)\n",
    "sols = solve([eq1, eq2, eq3], [xdd, t1dd, t2dd])"
   ]
  },
  {
   "cell_type": "code",
   "execution_count": null,
   "metadata": {},
   "outputs": [],
   "source": []
  },
  {
   "cell_type": "code",
   "execution_count": null,
   "metadata": {},
   "outputs": [],
   "source": []
  },
  {
   "cell_type": "markdown",
   "metadata": {},
   "source": [
    "# Wheeled Dual Inverted Pendulum"
   ]
  },
  {
   "cell_type": "markdown",
   "metadata": {},
   "source": [
    "# Wheeled Double Inverted Pendulum"
   ]
  },
  {
   "cell_type": "markdown",
   "metadata": {},
   "source": [
    "# Furuta"
   ]
  },
  {
   "cell_type": "markdown",
   "metadata": {},
   "source": [
    "# Dual Furuta Pendulum "
   ]
  },
  {
   "cell_type": "markdown",
   "metadata": {},
   "source": [
    "# Double Furuta Pendulum"
   ]
  },
  {
   "cell_type": "code",
   "execution_count": null,
   "metadata": {},
   "outputs": [],
   "source": []
  }
 ],
 "metadata": {
  "kernelspec": {
   "display_name": "Python 3",
   "language": "python",
   "name": "python3"
  },
  "language_info": {
   "codemirror_mode": {
    "name": "ipython",
    "version": 3
   },
   "file_extension": ".py",
   "mimetype": "text/x-python",
   "name": "python",
   "nbconvert_exporter": "python",
   "pygments_lexer": "ipython3",
   "version": "3.5.2"
  }
 },
 "nbformat": 4,
 "nbformat_minor": 2
}
